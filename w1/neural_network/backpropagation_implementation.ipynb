{
 "cells": [
  {
   "cell_type": "code",
   "execution_count": 27,
   "metadata": {
    "collapsed": true
   },
   "outputs": [],
   "source": [
    "import numpy as np\n",
    "import pandas as pd"
   ]
  },
  {
   "cell_type": "code",
   "execution_count": 28,
   "metadata": {
    "collapsed": false
   },
   "outputs": [
    {
     "name": "stdout",
     "output_type": "stream",
     "text": [
      "Feature values:\n",
      "[[-0.06665712  0.28930534  0.          1.          0.          0.        ]\n",
      " [ 0.62588442  1.44547565  0.          1.          0.          0.        ]\n",
      " [ 1.83783211  1.60313523  0.          0.          1.          0.        ]\n",
      " [ 1.31842596 -0.13112022  0.          0.          0.          1.        ]\n",
      " [-0.06665712 -1.20846073  0.          1.          0.          0.        ]]\n",
      "\n",
      "Target values:\n",
      "[0 0 1 0 0]\n"
     ]
    }
   ],
   "source": [
    "# data preparation\n",
    "admissions = pd.read_csv('backpropagation_implementation.csv')\n",
    "\n",
    "# Make dummy variables for rank\n",
    "data = pd.concat([admissions, pd.get_dummies(admissions['rank'], prefix='rank')], axis=1)\n",
    "data = data.drop('rank', axis=1)\n",
    "\n",
    "# Standarize features\n",
    "for field in ['gre', 'gpa']:\n",
    "    mean, std = data[field].mean(), data[field].std()\n",
    "    data.loc[:,field] = (data[field]-mean)/std\n",
    "    \n",
    "# Split off random 10% of the data for testing\n",
    "np.random.seed(42)\n",
    "sample = np.random.choice(data.index, size=int(len(data)*0.9), replace=False)\n",
    "data, test_data = data.ix[sample], data.drop(sample)\n",
    "\n",
    "# Split into features and targets\n",
    "features, targets = data.drop('admit', axis=1), data['admit']\n",
    "features_test, targets_test = test_data.drop('admit', axis=1), test_data['admit']\n",
    "n_records, n_features = features.shape\n",
    "\n",
    "# n_records x 6\n",
    "print('Feature values:')\n",
    "print(features[0:5].values)\n",
    "print()\n",
    "\n",
    "# 1 x n_records\n",
    "print('Target values:')\n",
    "print(targets[0:5].values)"
   ]
  },
  {
   "cell_type": "code",
   "execution_count": 29,
   "metadata": {
    "collapsed": true
   },
   "outputs": [],
   "source": [
    "def sigmoid(x):\n",
    "    \"\"\"\n",
    "    Calculate sigmoid\n",
    "    \"\"\"\n",
    "    return 1 / (1 + np.exp(-x))"
   ]
  },
  {
   "cell_type": "code",
   "execution_count": 30,
   "metadata": {
    "collapsed": true
   },
   "outputs": [],
   "source": [
    "# Hyperparameters\n",
    "np.random.seed(42)\n",
    "n_hidden = 3  # number of hidden units\n",
    "epochs = 500\n",
    "learnrate = 0.5"
   ]
  },
  {
   "cell_type": "code",
   "execution_count": 31,
   "metadata": {
    "collapsed": false
   },
   "outputs": [
    {
     "name": "stdout",
     "output_type": "stream",
     "text": [
      "Train loss:  0.3182750870385583\n",
      "Train loss:  0.31765931344802173\n",
      "Train loss:  0.31689612476142887\n",
      "Train loss:  0.316194424075769\n",
      "Train loss:  0.3155242579527855\n",
      "Train loss:  0.31479691939207416\n",
      "Train loss:  0.31395740858119575\n",
      "Train loss:  0.312972699036571\n",
      "Train loss:  0.31182033925725555\n",
      "Train loss:  0.3104845582488786\n",
      "Prediction accuracy: 0.725\n"
     ]
    }
   ],
   "source": [
    "last_loss = None\n",
    "\n",
    "# Initialize weights\n",
    "# 6 x 3\n",
    "weights_input_hidden = np.random.normal(scale=1 / n_features ** -.5,\n",
    "                                        size=(n_features, n_hidden))\n",
    "# 1 x 3\n",
    "weights_hidden_output = np.random.normal(scale=1 / n_features ** -.5,\n",
    "                                         size=n_hidden)\n",
    "\n",
    "for e in range(epochs):\n",
    "    del_w_input_hidden = np.zeros(weights_input_hidden.shape)\n",
    "    del_w_hidden_output = np.zeros(weights_hidden_output.shape)\n",
    "    # x: 1 x 6\n",
    "    # y: 1\n",
    "    for x, y in zip(features.values, targets):\n",
    "        ## Forward pass ##\n",
    "        # TODO: Calculate the output\n",
    "        hidden_input = np.dot(x, weights_input_hidden)\n",
    "        hidden_output = sigmoid(hidden_input)\n",
    "        output = sigmoid(np.dot(hidden_output, weights_hidden_output))\n",
    "\n",
    "        ## Backward pass ##\n",
    "        # TODO: Calculate the error\n",
    "        error = y - output\n",
    "\n",
    "        # TODO: Calculate error gradient in output unit\n",
    "        output_error = error * output * (1 - output)\n",
    "\n",
    "        # TODO: propagate errors to hidden layer\n",
    "        hidden_error = np.dot(output_error, weights_hidden_output) * hidden_output * (1 - hidden_output)\n",
    "\n",
    "        # TODO: Update the change in weights\n",
    "        del_w_hidden_output += output_error * hidden_output\n",
    "        del_w_input_hidden += hidden_error * x[:, None]\n",
    "\n",
    "    # TODO: Update weights\n",
    "    weights_input_hidden += learnrate * del_w_input_hidden / n_records\n",
    "    weights_hidden_output += learnrate * del_w_hidden_output / n_records\n",
    "\n",
    "    # Printing out the mean square error on the training set\n",
    "    if e % (epochs / 10) == 0:\n",
    "        hidden_output = sigmoid(np.dot(x, weights_input_hidden))\n",
    "        out = sigmoid(np.dot(hidden_output, weights_hidden_output))\n",
    "        loss = np.mean((out - targets) ** 2)\n",
    "\n",
    "        if last_loss and last_loss < loss:\n",
    "            print(\"Train loss: \", loss, \"  WARNING - Loss Increasing\")\n",
    "        else:\n",
    "            print(\"Train loss: \", loss)\n",
    "        last_loss = loss\n",
    "\n",
    "# Calculate accuracy on test data\n",
    "hidden = sigmoid(np.dot(features_test, weights_input_hidden))\n",
    "out = sigmoid(np.dot(hidden, weights_hidden_output))\n",
    "predictions = out > 0.5\n",
    "accuracy = np.mean(predictions == targets_test)\n",
    "print(\"Prediction accuracy: {:.3f}\".format(accuracy))"
   ]
  },
  {
   "cell_type": "markdown",
   "metadata": {
    "collapsed": true
   },
   "source": [
    "Input: $X$\n",
    "\n",
    "HiddenInput: $W_{ih} X$\n",
    "\n",
    "HiddenOutput: $y_h = f(W_{ih} X)$\n",
    "\n",
    "FinalInput: $W_{ho} f(W_{ih} X)$\n",
    "\n",
    "FinalOutput: $\\hat{y} = f(W_{ho} f(W_{ih} x))$\n",
    "\n",
    "FinalOutputError: $e = y - \\hat{y}$\n",
    "\n",
    "FinalOutputErrorGradient: $\\delta^o = e \\times \\hat{y}'$\n",
    "\n",
    "HiddenOutputErrorGraident: $\\delta^h = \\delta^o \\times W_{ho} \\times y_h'$\n",
    "\n",
    "OutputWeightStep: $\\Delta W = \\Delta W + \\delta y_h$\n",
    "\n",
    "HiddenWeightStep: $\\Delta w_h = \\Delta w_h + \\delta^h X$\n",
    "\n",
    "OutputWeightUpdate: $W = W + \\eta \\Delta W / N$\n",
    "\n",
    "HiddenWeightUpdate: $w_h = w_h + \\eta \\Delta w_h / N$"
   ]
  }
 ],
 "metadata": {
  "kernelspec": {
   "display_name": "Python [default]",
   "language": "python",
   "name": "python3"
  },
  "language_info": {
   "codemirror_mode": {
    "name": "ipython",
    "version": 3
   },
   "file_extension": ".py",
   "mimetype": "text/x-python",
   "name": "python",
   "nbconvert_exporter": "python",
   "pygments_lexer": "ipython3",
   "version": "3.5.2"
  }
 },
 "nbformat": 4,
 "nbformat_minor": 2
}
