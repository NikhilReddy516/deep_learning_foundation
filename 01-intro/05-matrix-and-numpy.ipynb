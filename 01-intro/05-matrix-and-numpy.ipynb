{
 "cells": [
  {
   "cell_type": "markdown",
   "metadata": {},
   "source": [
    "# Matrix Math and NumPy Refresher"
   ]
  },
  {
   "cell_type": "markdown",
   "metadata": {},
   "source": [
    "## Data dimensions\n",
    "- Scalars\n",
    "  - Zero dimension\n",
    "- Vectors\n",
    "  - One dimension: length\n",
    "  - Row vectors\n",
    "  - Column vectors\n",
    "- Matrix\n",
    "  - Two dimensions: rows and columns\n",
    "- Tensors\n",
    "  - N dimensions"
   ]
  },
  {
   "cell_type": "markdown",
   "metadata": {},
   "source": [
    "## NumPy\n",
    "- Provide fast alternatives to math operations in Python.\n",
    "- Work efficiently with groups of numbers."
   ]
  },
  {
   "cell_type": "code",
   "execution_count": 1,
   "metadata": {
    "pycharm": {
     "is_executing": false,
     "name": "#%%\n"
    }
   },
   "outputs": [],
   "source": [
    "import numpy as np"
   ]
  },
  {
   "cell_type": "markdown",
   "metadata": {},
   "source": [
    "## `ndarray`\n",
    "- Represent any data types: scalars, vectors, matrics, or tensors.\n",
    "- Data types: signed or unsigned. For example: `uint8`, `int16`.\n",
    "- Every item in the array must have the same type."
   ]
  },
  {
   "cell_type": "code",
   "execution_count": 2,
   "metadata": {
    "pycharm": {
     "is_executing": false,
     "name": "#%%\n"
    }
   },
   "outputs": [
    {
     "name": "stdout",
     "output_type": "stream",
     "text": [
      "()\n",
      "8\n"
     ]
    }
   ],
   "source": [
    "s = np.array(5)\n",
    "print(s.shape)\n",
    "# zero dimension: ()\n",
    "\n",
    "x = s + 3\n",
    "print(x)\n",
    "# 8"
   ]
  },
  {
   "cell_type": "markdown",
   "metadata": {
    "pycharm": {
     "name": "#%% md\n"
    }
   },
   "source": [
    "## Vectors"
   ]
  },
  {
   "cell_type": "code",
   "execution_count": 3,
   "metadata": {
    "pycharm": {
     "is_executing": false,
     "name": "#%%\n"
    }
   },
   "outputs": [
    {
     "name": "stdout",
     "output_type": "stream",
     "text": [
      "(3,)\n",
      "2\n",
      "[2 3]\n"
     ]
    }
   ],
   "source": [
    "\n",
    "v = np.array([1, 2, 3])\n",
    "print(v.shape)\n",
    "# one dimension: (3,)\n",
    "\n",
    "print(v[1])\n",
    "# 2\n",
    "\n",
    "print(v[1:])\n",
    "# [2, 3]"
   ]
  },
  {
   "cell_type": "markdown",
   "metadata": {
    "pycharm": {
     "name": "#%% md\n"
    }
   },
   "source": [
    "## Matrices"
   ]
  },
  {
   "cell_type": "code",
   "execution_count": 4,
   "metadata": {
    "pycharm": {
     "is_executing": false,
     "name": "#%%\n"
    }
   },
   "outputs": [
    {
     "name": "stdout",
     "output_type": "stream",
     "text": [
      "[[1 2 3]\n",
      " [4 5 6]\n",
      " [7 8 9]]\n",
      "(3, 3)\n"
     ]
    }
   ],
   "source": [
    "m = np.array([\n",
    "  [1, 2, 3],\n",
    "  [4, 5, 6],\n",
    "  [7, 8, 9],\n",
    "])\n",
    "print(m)\n",
    "# [[1 2 3]\n",
    "#  [4 5 6]\n",
    "#  [7 8 9]]\n",
    "\n",
    "print(m.shape)\n",
    "# (3, 3)"
   ]
  },
  {
   "cell_type": "markdown",
   "metadata": {
    "pycharm": {
     "is_executing": false,
     "name": "#%% md\n"
    }
   },
   "source": [
    "## Tensors"
   ]
  },
  {
   "cell_type": "code",
   "execution_count": 5,
   "metadata": {
    "pycharm": {
     "is_executing": false,
     "name": "#%%\n"
    }
   },
   "outputs": [
    {
     "name": "stdout",
     "output_type": "stream",
     "text": [
      "(3, 3, 2, 1)\n"
     ]
    }
   ],
   "source": [
    "t = np.array([[[[1],[2]],[[3],[4]],[[5],[6]]],[[[7],[8]],\\\n",
    "    [[9],[10]],[[11],[12]]],[[[13],[14]],[[15],[16]],[[17],[17]]]])\n",
    "print(t.shape)\n",
    "# (3, 3, 2, 1)"
   ]
  },
  {
   "cell_type": "markdown",
   "metadata": {
    "pycharm": {
     "name": "#%% md\n"
    }
   },
   "source": [
    "## Changing shapes"
   ]
  },
  {
   "cell_type": "code",
   "execution_count": 6,
   "metadata": {
    "pycharm": {
     "is_executing": false,
     "name": "#%%\n"
    }
   },
   "outputs": [
    {
     "name": "stdout",
     "output_type": "stream",
     "text": [
      "(4,)\n",
      "[[1 2 3 4]]\n",
      "(1, 4)\n",
      "[[1 2 3 4]]\n",
      "(1, 4)\n",
      "[[1]\n",
      " [2]\n",
      " [3]\n",
      " [4]]\n",
      "(4, 1)\n",
      "[[1]\n",
      " [2]\n",
      " [3]\n",
      " [4]]\n",
      "(4, 1)\n"
     ]
    }
   ],
   "source": [
    "# vector\n",
    "v = np.array([1, 2, 3, 4])\n",
    "print(v.shape)\n",
    "# (4,)\n",
    "\n",
    "# reshape to 1 x 4 matrix\n",
    "x = v.reshape(1, 4)\n",
    "print(x)\n",
    "# [[1 2 3 4]]\n",
    "print(x.shape)\n",
    "# (1, 4)\n",
    "\n",
    "# look for all the items of v\n",
    "# and add a new dimension per row\n",
    "x = v[None, :]\n",
    "print(x)\n",
    "# [[1 2 3 4]]\n",
    "print(x.shape)\n",
    "# (1, 4)\n",
    "\n",
    "# reshape to 4 x 1 matrix\n",
    "y = v.reshape(4, 1)\n",
    "print(y)\n",
    "# [[1]\n",
    "#  [2]\n",
    "#  [3]\n",
    "#  [4]]\n",
    "print(y.shape)\n",
    "# (4, 1)\n",
    "\n",
    "# look for all the items of v\n",
    "# and add a new dimension per column\n",
    "y = v[:, None]\n",
    "print(y)\n",
    "# [[1]\n",
    "#  [2]\n",
    "#  [3]\n",
    "#  [4]]\n",
    "print(y.shape)\n",
    "# (4, 1)"
   ]
  },
  {
   "cell_type": "markdown",
   "metadata": {
    "pycharm": {
     "name": "#%% md\n"
    }
   },
   "source": [
    "## Element-wise matrix operations\n",
    "- Treat items in the matrix individually and perform the same operation on each one.\n",
    "- Operations between a scalar and a matrix.\n",
    "- Operations between two matrices.\n",
    "  - They must have the same shape."
   ]
  },
  {
   "cell_type": "code",
   "execution_count": 7,
   "metadata": {
    "pycharm": {
     "is_executing": false,
     "name": "#%%\n"
    }
   },
   "outputs": [
    {
     "name": "stdout",
     "output_type": "stream",
     "text": [
      "[6 7 8]\n"
     ]
    }
   ],
   "source": [
    "# scalar operations\n",
    "values = np.array([1, 2, 3])\n",
    "values += 5\n",
    "print(values)\n",
    "# [6 7 8]\n"
   ]
  },
  {
   "cell_type": "code",
   "execution_count": 8,
   "metadata": {
    "pycharm": {
     "is_executing": false,
     "name": "#%%\n"
    }
   },
   "outputs": [
    {
     "name": "stdout",
     "output_type": "stream",
     "text": [
      "[[1 3]\n",
      " [5 7]]\n",
      "[[2 4]\n",
      " [6 8]]\n",
      "[[ 3  7]\n",
      " [11 15]]\n"
     ]
    }
   ],
   "source": [
    "# matrix operations\n",
    "\n",
    "a = np.array([[1,3],[5,7]])\n",
    "print(a)\n",
    "# ([[1, 3],\n",
    "#   [5, 7]])\n",
    "\n",
    "b = np.array([[2,4],[6,8]])\n",
    "print(b)\n",
    "# ([[2, 4],\n",
    "#   [6, 8]])\n",
    "\n",
    "print(a + b)\n",
    "# ([[ 3,  7],\n",
    "#   [11, 15]])"
   ]
  },
  {
   "cell_type": "markdown",
   "metadata": {
    "pycharm": {
     "name": "#%% md\n"
    }
   },
   "source": [
    "## Data representation\n",
    "\n",
    "- Row representation\n",
    "  - Each row represents one entity.\n",
    "  - Each column represents one feature.\n",
    "\n",
    "| Person | Height | Weight | Age |\n",
    "| ---- | ---- | ---- | ---- |\n",
    "| 1 | 175 | 75 | 24 |\n",
    "| 2 | 203 | 102 | 31 |\n",
    "| 3 | 217 | 94 | 39 |\n",
    "\n",
    "- Column representation\n",
    "  - Each column represents one entity.\n",
    "  - Each row represents one feature.\n",
    "\n",
    "| Feature | Person 1 | Person 2 | Person 3 |\n",
    "| ---- | ---- | --- | ---- |\n",
    "| Height | 175 | 203 | 217 |\n",
    "| Weight | 75 | 102 | 94 |\n",
    "| Age | 24 | 31 | 39 |"
   ]
  },
  {
   "cell_type": "markdown",
   "metadata": {
    "pycharm": {
     "name": "#%% md\n"
    }
   },
   "source": [
    "## Matrix product\n",
    "- Take a series of dot product between every row in the left matrix and every column in the right matrix.\n",
    "- Dot product\n",
    "  - Algebraically, the dot product is the sum of the products of the corresponding entries of the two sequences of numbers.\n",
    "  - Geometrically, it is the product of the Euclidean magnitudes of the two vectors and the cosine of the angle between them.\n",
    "- The number of columns in the left matrix must equal the number of rows in the right matrix.\n",
    "- `(x, y) x (y, z) => (x, z)`\n",
    "- `np.dot` is equivalent to `np.matmul` only if both matrices are 2D. Do not use `np.dot` for matrix multiplication.\n",
    "- Always multiple a row matrix with a column matrix.\n",
    "  - Each dot production combines differrent features from each data entity.\n",
    "  - E.g. Combine height, weight, and age from person 1."
   ]
  },
  {
   "cell_type": "code",
   "execution_count": 9,
   "metadata": {
    "pycharm": {
     "is_executing": false,
     "name": "#%%\n"
    }
   },
   "outputs": [
    {
     "name": "stdout",
     "output_type": "stream",
     "text": [
      "(2, 4)\n",
      "(4, 3)\n",
      "(2, 3)\n"
     ]
    }
   ],
   "source": [
    "a = np.array([[1,2,3,4],[5,6,7,8]])\n",
    "print(a.shape)\n",
    "# (2, 4)\n",
    "\n",
    "b = np.array([[1,2,3],[4,5,6],[7,8,9],[10,11,12]])\n",
    "print(b.shape)\n",
    "# (4, 3)\n",
    "\n",
    "c = np.matmul(a, b)\n",
    "print(c.shape)\n",
    "# (2, 3)"
   ]
  },
  {
   "cell_type": "markdown",
   "metadata": {
    "pycharm": {
     "name": "#%% md\n"
    }
   },
   "source": [
    "## Matrix transpose\n",
    "\n",
    "- When multiplying two row matrices:\n",
    "  - Transpose the second matrix (which becomes a column matrix).\n",
    "    - The result is a row matrix.\n",
    "    - Each row is the combined features (with different apporaches) about one entity.\n",
    "  - Transpose the first matrix (which becomes a column matrix) and swap the order.\n",
    "    - The result is a column matrix.\n",
    "    - Each column is the combined features (with different approaches) about one entity.\n",
    "  - The answers of the two solutions are transposes of each other.\n",
    "- When multiplying two column matrices:\n",
    "  - The above transposing operations will not work.\n",
    "  - If multiplying the first with the transposed second matrix:\n",
    "    - Each dot production combines the same feature from different entities, rather than combining features for each entity (which is probably intended).\n",
    "    - E.g. combine height from person 1 with height from person 2."
   ]
  },
  {
   "cell_type": "code",
   "execution_count": 10,
   "metadata": {
    "pycharm": {
     "is_executing": false,
     "name": "#%%\n"
    }
   },
   "outputs": [
    {
     "name": "stdout",
     "output_type": "stream",
     "text": [
      "[[-0.01299  0.00664  0.13494]\n",
      " [ 0.01107  0.00579 -0.24667]]\n",
      "[[-0.01299  0.01107]\n",
      " [ 0.00664  0.00579]\n",
      " [ 0.13494 -0.24667]]\n"
     ]
    }
   ],
   "source": [
    "# row data\n",
    "# one row per entity with four features each\n",
    "inputs = np.array([ \\\n",
    "  [-0.27,  0.45,  0.64, 0.31], \\\n",
    "  [1.04, 2.27, -0.8, -1.0]])\n",
    "\n",
    "# row data\n",
    "# three different ways of combining the four features\n",
    "weights = np.array([ \\\n",
    "  [0.02, 0.001, -0.03, 0.036], \\\n",
    "  [0.04, -0.003, 0.025, 0.009], \\\n",
    "  [0.012, -0.045, 0.28, -0.067]])\n",
    "\n",
    "# first approach\n",
    "print(np.matmul(inputs, weights.T))\n",
    "# row data: each row contains the three combined data for one entity\n",
    "# [[-0.01299  0.00664  0.13494]\n",
    "#  [ 0.01107  0.00579 -0.24667]]\n",
    "\n",
    "# second approach\n",
    "print(np.matmul(weights, inputs.T))\n",
    "# column data: each column contains the three combined data for one entity\n",
    "# [[-0.01299  0.01107]\n",
    "#  [ 0.00664  0.00579]\n",
    "#  [ 0.13494 -0.24667]]"
   ]
  },
  {
   "cell_type": "markdown",
   "metadata": {
    "pycharm": {
     "name": "#%% md\n"
    }
   },
   "source": [
    "- Transposed matrix share the same underlying data with the original matrix.\n",
    "  - `numpy` simply changes the way it indexes the original matrix."
   ]
  },
  {
   "cell_type": "code",
   "execution_count": 11,
   "metadata": {
    "pycharm": {
     "is_executing": false,
     "name": "#%%\n"
    }
   },
   "outputs": [
    {
     "name": "stdout",
     "output_type": "stream",
     "text": [
      "(3, 4)\n",
      "(4, 3)\n",
      "[[  1   5   9]\n",
      " [  2   6  10]\n",
      " [  3   7  11]\n",
      " [  4 200  12]]\n",
      "[[  1   2   3   4]\n",
      " [  5   6   7 200]\n",
      " [  9  10  11  12]]\n"
     ]
    }
   ],
   "source": [
    "m = np.array([[1,2,3,4], [5,6,7,8], [9,10,11,12]])\n",
    "print(m.shape)\n",
    "# (3, 4)\n",
    "\n",
    "m_t = m.T\n",
    "print(m_t.shape)\n",
    "# (4, 3)\n",
    "\n",
    "# modify one matrix will also modify the other\n",
    "m_t[3][1] = 200\n",
    "print(m_t)\n",
    "# array([[ 1,   5, 9],\n",
    "#        [ 2,   6, 10],\n",
    "#        [ 3,   7, 11],\n",
    "#        [ 4, 200, 12]])\n",
    "\n",
    "print(m)\n",
    "# array([[ 1,  2,  3,   4],\n",
    "#        [ 5,  6,  7, 200],\n",
    "#        [ 9, 10, 11,  12]])\n"
   ]
  },
  {
   "cell_type": "markdown",
   "metadata": {},
   "source": [
    "## Quiz"
   ]
  },
  {
   "cell_type": "code",
   "execution_count": 12,
   "metadata": {},
   "outputs": [
    {
     "name": "stdout",
     "output_type": "stream",
     "text": [
      "Input as Array: [[-1  2  7]]\n",
      "Input minus min: [[0 3 8]]\n",
      "Input  Array: [[0.    0.375 1.   ]]\n",
      "Multiply 1:\n",
      "False\n",
      "Multiply 2:\n",
      "[[14]\n",
      " [32]]\n",
      "Multiply 3:\n",
      "[[ 9 12 15]]\n",
      "Mean == 2.6666666666666665\n"
     ]
    }
   ],
   "source": [
    "# Use the numpy library\n",
    "import numpy as np\n",
    "\n",
    "\n",
    "def prepare_inputs(inputs):\n",
    "    # TODO: create a 2-dimensional ndarray from the given 1-dimensional list;\n",
    "    #       assign it to input_array\n",
    "    input_array = np.array([inputs])\n",
    "    \n",
    "    # TODO: find the minimum value in input_array and subtract that\n",
    "    #       value from all the elements of input_array. Store the\n",
    "    #       result in inputs_minus_min\n",
    "    inputs_minus_min = input_array - np.min(inputs)\n",
    "\n",
    "    # TODO: find the maximum value in inputs_minus_min and divide\n",
    "    #       all of the values in inputs_minus_min by the maximum value.\n",
    "    #       Store the results in inputs_div_max.\n",
    "    inputs_div_max = inputs_minus_min / np.max(inputs_minus_min)\n",
    "\n",
    "    # return the three arrays we've created\n",
    "    return input_array, inputs_minus_min, inputs_div_max\n",
    "    \n",
    "\n",
    "def multiply_inputs(m1, m2):\n",
    "    # TODO: Check the shapes of the matrices m1 and m2. \n",
    "    #       m1 and m2 will be ndarray objects.\n",
    "    #\n",
    "    #       Return False if the shapes cannot be used for matrix\n",
    "    #       multiplication. You may not use a transpose\n",
    "    \n",
    "    # TODO: If you have not returned False, then calculate the matrix product\n",
    "    #       of m1 and m2 and return it. Do not use a transpose,\n",
    "    #       but you swap their order if necessary\n",
    "\n",
    "    if m1.shape[1] == m2.shape[0]:\n",
    "        return np.matmul(m1, m2)\n",
    "    elif m2.shape[1] == m1.shape[0]:\n",
    "        return np.matmul(m2, m1)\n",
    "    else:\n",
    "        return False\n",
    "\n",
    "\n",
    "def find_mean(values):\n",
    "    # TODO: Return the average of the values in the given Python list\n",
    "    return np.mean(values)\n",
    "\n",
    "\n",
    "input_array, inputs_minus_min, inputs_div_max = prepare_inputs([-1,2,7])\n",
    "print(\"Input as Array: {}\".format(input_array))\n",
    "print(\"Input minus min: {}\".format(inputs_minus_min))\n",
    "print(\"Input  Array: {}\".format(inputs_div_max))\n",
    "\n",
    "print(\"Multiply 1:\\n{}\".format(multiply_inputs(np.array([[1,2,3],[4,5,6]]), np.array([[1],[2],[3],[4]]))))\n",
    "print(\"Multiply 2:\\n{}\".format(multiply_inputs(np.array([[1,2,3],[4,5,6]]), np.array([[1],[2],[3]]))))\n",
    "print(\"Multiply 3:\\n{}\".format(multiply_inputs(np.array([[1,2,3],[4,5,6]]), np.array([[1,2]]))))\n",
    "\n",
    "print(\"Mean == {}\".format(find_mean([1,3,4])))"
   ]
  }
 ],
 "metadata": {
  "kernelspec": {
   "display_name": "Python 3",
   "language": "python",
   "name": "python3"
  },
  "language_info": {
   "codemirror_mode": {
    "name": "ipython",
    "version": 3
   },
   "file_extension": ".py",
   "mimetype": "text/x-python",
   "name": "python",
   "nbconvert_exporter": "python",
   "pygments_lexer": "ipython3",
   "version": "3.7.4"
  },
  "pycharm": {
   "stem_cell": {
    "cell_type": "raw",
    "metadata": {
     "collapsed": false
    },
    "source": []
   }
  }
 },
 "nbformat": 4,
 "nbformat_minor": 1
}
